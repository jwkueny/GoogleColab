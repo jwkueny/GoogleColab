{
  "nbformat": 4,
  "nbformat_minor": 0,
  "metadata": {
    "kernelspec": {
      "display_name": "Python 3",
      "language": "python",
      "name": "python3"
    },
    "language_info": {
      "codemirror_mode": {
        "name": "ipython",
        "version": 3
      },
      "file_extension": ".py",
      "mimetype": "text/x-python",
      "name": "python",
      "nbconvert_exporter": "python",
      "pygments_lexer": "ipython3",
      "version": "3.7.1"
    },
    "colab": {
      "name": "Copy of Assignment1_Q1.ipynb",
      "provenance": [],
      "collapsed_sections": [
        "3ZzwWXI185ra",
        "zLuSaN4dpr8n"
      ],
      "include_colab_link": true
    }
  },
  "cells": [
    {
      "cell_type": "markdown",
      "metadata": {
        "id": "view-in-github",
        "colab_type": "text"
      },
      "source": [
        "<a href=\"https://colab.research.google.com/github/jwkueny/GoogleColab/blob/master/Assignment1_Q1.ipynb\" target=\"_parent\"><img src=\"https://colab.research.google.com/assets/colab-badge.svg\" alt=\"Open In Colab\"/></a>"
      ]
    },
    {
      "cell_type": "markdown",
      "metadata": {
        "id": "RmAmzi40WXM1",
        "colab_type": "text"
      },
      "source": [
        "\n",
        "# Assignment01-Q1\n",
        "\n",
        "\n",
        "Author: Dr. T. Smith (timsmith@iastate.edu) (Fall, 2020)\n",
        "\n",
        "Complete all missing code within the Task section (and all subsections). \n",
        "\n"
      ]
    },
    {
      "cell_type": "markdown",
      "metadata": {
        "id": "3ZzwWXI185ra",
        "colab_type": "text"
      },
      "source": [
        "## Import Libraries \n"
      ]
    },
    {
      "cell_type": "code",
      "metadata": {
        "id": "3UBCDKDbWXM2",
        "colab_type": "code",
        "colab": {}
      },
      "source": [
        "import pandas as pd # libarary for dataframes (and other)\n",
        "import matplotlib.pylab as plt"
      ],
      "execution_count": null,
      "outputs": []
    },
    {
      "cell_type": "markdown",
      "metadata": {
        "id": "B3SC_l3HCaGw",
        "colab_type": "text"
      },
      "source": [
        "## TASK: Create Python code to accomplish the following data loading and cleaning tasks\n"
      ]
    },
    {
      "cell_type": "markdown",
      "metadata": {
        "id": "PEbclzaP_M8u",
        "colab_type": "text"
      },
      "source": [
        "### Load data directly from class GitHub repo"
      ]
    },
    {
      "cell_type": "code",
      "metadata": {
        "id": "hokOAwkQ7u7n",
        "colab_type": "code",
        "colab": {}
      },
      "source": [
        "# add code here to load the Assignment1_Q1.csv from GitHub repo into a data frame calls mower_df"
      ],
      "execution_count": null,
      "outputs": []
    },
    {
      "cell_type": "markdown",
      "metadata": {
        "id": "QpwWRyLzBVSY",
        "colab_type": "text"
      },
      "source": [
        "### Clean the current column names\n",
        "\n"
      ]
    },
    {
      "cell_type": "code",
      "metadata": {
        "id": "fUrVNUZIBRuL",
        "colab_type": "code",
        "colab": {}
      },
      "source": [
        "# Remove any leadeing and trailing blank space characters found in the column and replace any remaining \n",
        "# spaces with underscore (see example code from class 2)\n",
        "\n",
        "# insert code here"
      ],
      "execution_count": null,
      "outputs": []
    },
    {
      "cell_type": "markdown",
      "metadata": {
        "id": "TXB95uXw_VrD",
        "colab_type": "text"
      },
      "source": [
        "### Display the first 3 rows of the dataframe"
      ]
    },
    {
      "cell_type": "code",
      "metadata": {
        "id": "f1s5sRbk_hk-",
        "colab_type": "code",
        "colab": {}
      },
      "source": [
        "# insert code "
      ],
      "execution_count": null,
      "outputs": []
    },
    {
      "cell_type": "markdown",
      "metadata": {
        "id": "ZbD-gpSg_k0D",
        "colab_type": "text"
      },
      "source": [
        "### Display all data found in column 1\n",
        "\n"
      ]
    },
    {
      "cell_type": "code",
      "metadata": {
        "id": "FMUptWkA_p8V",
        "colab_type": "code",
        "colab": {}
      },
      "source": [
        "# insert code"
      ],
      "execution_count": null,
      "outputs": []
    },
    {
      "cell_type": "markdown",
      "metadata": {
        "id": "-OEPdhVz_smW",
        "colab_type": "text"
      },
      "source": [
        "### Display all data found in column 2"
      ]
    },
    {
      "cell_type": "code",
      "metadata": {
        "id": "OVr4Y8x-_xGK",
        "colab_type": "code",
        "colab": {}
      },
      "source": [
        "# insert code"
      ],
      "execution_count": null,
      "outputs": []
    },
    {
      "cell_type": "markdown",
      "metadata": {
        "id": "HcLoGSKx_zL2",
        "colab_type": "text"
      },
      "source": [
        "### Replace any missing numbers with the median value (of the column that the missing number was found)\n"
      ]
    },
    {
      "cell_type": "code",
      "metadata": {
        "id": "ASoxG6xdADd6",
        "colab_type": "code",
        "colab": {}
      },
      "source": [
        "# insert code"
      ],
      "execution_count": null,
      "outputs": []
    },
    {
      "cell_type": "markdown",
      "metadata": {
        "id": "CH1W5-b-AGPj",
        "colab_type": "text"
      },
      "source": [
        "### Fix any typos found in Column 3 data "
      ]
    },
    {
      "cell_type": "code",
      "metadata": {
        "id": "rtsoTsIUALMN",
        "colab_type": "code",
        "colab": {}
      },
      "source": [
        "# insert code"
      ],
      "execution_count": null,
      "outputs": []
    },
    {
      "cell_type": "markdown",
      "metadata": {
        "id": "AxX9Ct78Bx29",
        "colab_type": "text"
      },
      "source": [
        "### Summarize the data found in the first column "
      ]
    },
    {
      "cell_type": "code",
      "metadata": {
        "id": "6NcKzwR4Bv8d",
        "colab_type": "code",
        "colab": {}
      },
      "source": [
        "# Summarize using at least the following measures:  Mean, Median, Max, Min, 25th quantile, 50% quantile, and 75th quantile.\n",
        "\n",
        "# insert code here"
      ],
      "execution_count": null,
      "outputs": []
    },
    {
      "cell_type": "markdown",
      "metadata": {
        "id": "jt4nT07JC3i9",
        "colab_type": "text"
      },
      "source": [
        "### Summarize the data found in the second column"
      ]
    },
    {
      "cell_type": "markdown",
      "metadata": {
        "id": "pD2-9pdvDS9e",
        "colab_type": "text"
      },
      "source": [
        ""
      ]
    },
    {
      "cell_type": "code",
      "metadata": {
        "id": "BHnUvRuzC8qr",
        "colab_type": "code",
        "colab": {}
      },
      "source": [
        "# Summarize using at least the following measures:  Mean, Median, Max, Min, 25th quantile, 50% quantile, and 75th quantile.\n",
        "\n",
        "# insert code here"
      ],
      "execution_count": null,
      "outputs": []
    },
    {
      "cell_type": "markdown",
      "metadata": {
        "id": "zLuSaN4dpr8n",
        "colab_type": "text"
      },
      "source": [
        "## Create scatter plot of the data\n"
      ]
    },
    {
      "cell_type": "markdown",
      "metadata": {
        "id": "CgPW1qoSAt7C",
        "colab_type": "text"
      },
      "source": [
        "**NOTE: You do not need to edit any of the code below. If you've correctly complete the required code above, the following code will work correctly.**"
      ]
    },
    {
      "cell_type": "code",
      "metadata": {
        "id": "uJ1M9hvipvuA",
        "colab_type": "code",
        "colab": {
          "base_uri": "https://localhost:8080/",
          "height": 662
        },
        "outputId": "1a9cfbfe-9759-4951-a186-373ad3e8d1b0"
      },
      "source": [
        "fig = plt.figure(figsize=(6,6)) # this creates a figure - sort of a drawing space to create our plot\n",
        "\n",
        "fig.suptitle(\"Figure 1: MIS 536 Assignment 1\", multialignment='center', wrap=True, y=1.05) # add centered title to figure \n",
        "\n",
        "####\n",
        "# Step 2c: Create a blank scatteplot\n",
        "ax2 = fig.add_subplot(111, title=\"Scatter Plot\") # within a 1x1 grid, add ax1 as the first plot\n",
        "\n",
        "# here we select only the records in our data that are \"Nonowner\" of mowers..\n",
        "# then add a scatter plot of this data to our figure\n",
        "mower_df.loc[mower_df.Ownership=='Owner'].plot(x='Income', y='Lot_Size', style='o', \n",
        "                                                   markerfacecolor='C0', markeredgecolor='C0', ax=ax2) \n",
        "mower_df.loc[mower_df.Ownership=='Nonowner'].plot(x='Income', y='Lot_Size', style='o',\n",
        "                                                      markerfacecolor='none', markeredgecolor='C1', ax=ax2)\n",
        "\n",
        "# NOTE: # C01, C02 etc. colors can be found here https://matplotlib.org/3.1.1/users/dflt_style_changes.html#colors-color-cycles-and-color-maps\n",
        "\n",
        "# add legend and and axes data\n",
        "\n",
        "ax1.legend([\"Owner\", \"Nonowner\"], framealpha=0.5);\n",
        "ax1.set_xlabel('Income ($000s)')\n",
        "ax1.set_ylabel('Lot Size (000s sqft)')\n",
        "\n",
        "# Set the layout style of the figure\n",
        "fig.tight_layout()\n",
        "\n",
        "# Safe a copy of the figure to a file (can be used to insert into a word document, or other)\n",
        "fig.savefig(\"assignment1_q1.svg\", format=\"svg\")  # other supported file types are png, pdf, ps, and eps\n",
        "# display the figure to the screen\n",
        "fig.show()\n"
      ],
      "execution_count": null,
      "outputs": [
        {
          "output_type": "error",
          "ename": "NameError",
          "evalue": "ignored",
          "traceback": [
            "\u001b[0;31m---------------------------------------------------------------------------\u001b[0m",
            "\u001b[0;31mNameError\u001b[0m                                 Traceback (most recent call last)",
            "\u001b[0;32m<ipython-input-11-be21d914218c>\u001b[0m in \u001b[0;36m<module>\u001b[0;34m()\u001b[0m\n\u001b[1;32m      9\u001b[0m \u001b[0;31m# here we select only the records in our data that are \"Nonowner\" of mowers..\u001b[0m\u001b[0;34m\u001b[0m\u001b[0;34m\u001b[0m\u001b[0;34m\u001b[0m\u001b[0m\n\u001b[1;32m     10\u001b[0m \u001b[0;31m# then add a scatter plot of this data to our figure\u001b[0m\u001b[0;34m\u001b[0m\u001b[0;34m\u001b[0m\u001b[0;34m\u001b[0m\u001b[0m\n\u001b[0;32m---> 11\u001b[0;31m mower_df.loc[mower_df.Ownership=='Owner'].plot(x='Income', y='Lot_Size', style='o', \n\u001b[0m\u001b[1;32m     12\u001b[0m                                                    markerfacecolor='C0', markeredgecolor='C0', ax=ax2) \n\u001b[1;32m     13\u001b[0m mower_df.loc[mower_df.Ownership=='Nonowner'].plot(x='Income', y='Lot_Size', style='o',\n",
            "\u001b[0;31mNameError\u001b[0m: name 'mower_df' is not defined"
          ]
        },
        {
          "output_type": "display_data",
          "data": {
            "image/png": "[encoded data removed]",
            "text/plain": [
              "<Figure size 432x432 with 1 Axes>"
            ]
          },
          "metadata": {
            "tags": [],
            "needs_background": "light"
          }
        }
      ]
    }
  ]
}