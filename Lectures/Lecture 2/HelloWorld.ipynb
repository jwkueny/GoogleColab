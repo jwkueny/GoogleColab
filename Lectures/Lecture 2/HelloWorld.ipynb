{
  "nbformat": 4,
  "nbformat_minor": 0,
  "metadata": {
    "colab": {
      "name": "HelloWorld.ipynb",
      "provenance": [],
      "collapsed_sections": [],
      "authorship_tag": "ABX9TyNGhGes2DzOoe1+rlEG7yIb",
      "include_colab_link": true
    },
    "kernelspec": {
      "name": "python3",
      "display_name": "Python 3"
    }
  },
  "cells": [
    {
      "cell_type": "markdown",
      "metadata": {
        "id": "view-in-github",
        "colab_type": "text"
      },
      "source": [
        "<a href=\"https://colab.research.google.com/github/jwkueny/GoogleColab/blob/master/HelloWorld.ipynb\" target=\"_parent\"><img src=\"https://colab.research.google.com/assets/colab-badge.svg\" alt=\"Open In Colab\"/></a>"
      ]
    },
    {
      "cell_type": "markdown",
      "metadata": {
        "id": "1kg2vXdAMt_E",
        "colab_type": "text"
      },
      "source": [
        "# Hello World\n",
        "## Hello 2\n",
        "### Hello 3\n",
        "\n",
        "This is our first Google Colab notebook."
      ]
    },
    {
      "cell_type": "code",
      "metadata": {
        "id": "JPv70Gn4Lmse",
        "colab_type": "code",
        "colab": {
          "base_uri": "https://localhost:8080/",
          "height": 34
        },
        "outputId": "6240031b-5795-4170-9de5-1c1ead6469fb"
      },
      "source": [
        "print(\"Hello World!\")\n",
        "#This is a comment"
      ],
      "execution_count": null,
      "outputs": [
        {
          "output_type": "stream",
          "text": [
            "Hello World!\n"
          ],
          "name": "stdout"
        }
      ]
    },
    {
      "cell_type": "markdown",
      "metadata": {
        "id": "2ggNT-5cL_Jx",
        "colab_type": "text"
      },
      "source": [
        "Hello. This is a text cell."
      ]
    }
  ]
}