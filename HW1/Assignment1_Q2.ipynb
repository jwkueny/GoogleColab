{
 "metadata": {
  "language_info": {
   "codemirror_mode": {
    "name": "ipython",
    "version": 3
   },
   "file_extension": ".py",
   "mimetype": "text/x-python",
   "name": "python",
   "nbconvert_exporter": "python",
   "pygments_lexer": "ipython3",
   "version": 3
  },
  "orig_nbformat": 2
 },
 "nbformat": 4,
 "nbformat_minor": 2,
 "cells": [
  {
   "source": [
    "## Assignent #2 Q2 - Worth 30 points\n",
    "\n",
    "Using the WestRoxbury.csv data file located in the class GitHub repositor, create a report (add code and markdown within this notebook) on the data in the first six columns of this dataset.\n",
    "\n",
    "Your report must include the following:\n",
    "\n",
    "* Calculate and display the max, min, mean, median, standard deviation for each of the six variables. \n",
    "\n",
    "* Create a boxplot for each of the six variables. Display these in one figure (multiple subplots)\n",
    "\n",
    "* Create a histogram for each of the six variables. Display these in one figure (multiple subplots)\n",
    "\n",
    "* Create a correlation matrix for the six variables.\n",
    "\n",
    "* In you own words summarize your findings/observations.\n",
    "\n",
    "Submit your notebook to Canvas (in the Assignment01_Q2 assignment).\n",
    "\n",
    "\n"
   ],
   "cell_type": "markdown",
   "metadata": {}
  }
 ]
}
