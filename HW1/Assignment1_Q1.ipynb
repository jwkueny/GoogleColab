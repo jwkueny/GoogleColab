{
  "nbformat": 4,
  "nbformat_minor": 0,
  "metadata": {
    "kernelspec": {
      "display_name": "Python 3",
      "language": "python",
      "name": "python3"
    },
    "language_info": {
      "codemirror_mode": {
        "name": "ipython",
        "version": 3
      },
      "file_extension": ".py",
      "mimetype": "text/x-python",
      "name": "python",
      "nbconvert_exporter": "python",
      "pygments_lexer": "ipython3",
      "version": "3.7.1"
    },
    "colab": {
      "name": "Copy of Assignment1_Q1.ipynb",
      "provenance": [],
      "collapsed_sections": [
        "3ZzwWXI185ra",
        "zLuSaN4dpr8n"
      ]
    }
  },
  "cells": [
    {
      "cell_type": "markdown",
      "metadata": {
        "id": "RmAmzi40WXM1",
        "colab_type": "text"
      },
      "source": [
        "\n",
        "# Assignment01-Q1\n",
        "\n",
        "\n",
        "Author: Dr. T. Smith (timsmith@iastate.edu) (Fall, 2020)\n",
        "\n",
        "Complete all missing code within the Task section (and all subsections). \n",
        "\n"
      ]
    },
    {
      "cell_type": "markdown",
      "metadata": {
        "id": "3ZzwWXI185ra",
        "colab_type": "text"
      },
      "source": [
        "## Import Libraries \n"
      ]
    },
    {
      "cell_type": "code",
      "metadata": {
        "id": "3UBCDKDbWXM2",
        "colab_type": "code",
        "colab": {}
      },
      "source": [
        "import pandas as pd # libarary for dataframes (and other)\n",
        "import matplotlib.pylab as plt # pylab combines pyplot with numpy into a single namespace. DataCamp shows pyplot not pylab. For our purposes in this course, you can use either. They both work."
      ],
      "execution_count": 42,
      "outputs": []
    },
    {
      "cell_type": "markdown",
      "metadata": {
        "id": "B3SC_l3HCaGw",
        "colab_type": "text"
      },
      "source": [
        "## TASK: Create Python code to accomplish the following data loading and cleaning tasks\n"
      ]
    },
    {
      "cell_type": "markdown",
      "metadata": {
        "id": "PEbclzaP_M8u",
        "colab_type": "text"
      },
      "source": [
        "### Load data directly from class GitHub repo"
      ]
    },
    {
      "cell_type": "code",
      "metadata": {
        "id": "hokOAwkQ7u7n",
        "colab_type": "code",
        "colab": {}
      },
      "source": [
        "# add code here to load the Assignment1_Q1.csv from GitHub repo into a data frame calls mower_df\n",
        "mower_df = pd.read_csv(\"https://github.com/timcsmith/MIS536-Public/raw/master/Data/Assignment1_Q1.csv\")"
      ],
      "execution_count": 43,
      "outputs": []
    },
    {
      "cell_type": "markdown",
      "metadata": {
        "id": "QpwWRyLzBVSY",
        "colab_type": "text"
      },
      "source": [
        "### Clean the current column names\n",
        "\n"
      ]
    },
    {
      "cell_type": "code",
      "metadata": {
        "id": "fUrVNUZIBRuL",
        "colab_type": "code",
        "colab": {}
      },
      "source": [
        "# Remove any leadeing and trailing blank space characters found in the column and replace any remaining \n",
        "# spaces with underscore (see example code from class 2)\n",
        "\n",
        "mower_df.columns = [item.strip().replace(' ','_') for item in mower_df.columns] "
      ],
      "execution_count": 44,
      "outputs": []
    },
    {
      "cell_type": "markdown",
      "metadata": {
        "id": "TXB95uXw_VrD",
        "colab_type": "text"
      },
      "source": [
        "### Display the first 3 rows of the dataframe"
      ]
    },
    {
      "cell_type": "code",
      "metadata": {
        "id": "f1s5sRbk_hk-",
        "colab_type": "code",
        "colab": {
          "base_uri": "https://localhost:8080/",
          "height": 142
        },
        "outputId": "98d25584-d8c1-48ec-8d53-c476408b4643"
      },
      "source": [
        "mower_df.head(3)"
      ],
      "execution_count": 45,
      "outputs": [
        {
          "output_type": "execute_result",
          "data": {
            "text/html": [
              "<div>\n",
              "<style scoped>\n",
              "    .dataframe tbody tr th:only-of-type {\n",
              "        vertical-align: middle;\n",
              "    }\n",
              "\n",
              "    .dataframe tbody tr th {\n",
              "        vertical-align: top;\n",
              "    }\n",
              "\n",
              "    .dataframe thead th {\n",
              "        text-align: right;\n",
              "    }\n",
              "</style>\n",
              "<table border=\"1\" class=\"dataframe\">\n",
              "  <thead>\n",
              "    <tr style=\"text-align: right;\">\n",
              "      <th></th>\n",
              "      <th>Income</th>\n",
              "      <th>Lot_Size</th>\n",
              "      <th>Ownership</th>\n",
              "    </tr>\n",
              "  </thead>\n",
              "  <tbody>\n",
              "    <tr>\n",
              "      <th>0</th>\n",
              "      <td>60.0</td>\n",
              "      <td>18.4</td>\n",
              "      <td>Owner</td>\n",
              "    </tr>\n",
              "    <tr>\n",
              "      <th>1</th>\n",
              "      <td>85.5</td>\n",
              "      <td>16.8</td>\n",
              "      <td>owner</td>\n",
              "    </tr>\n",
              "    <tr>\n",
              "      <th>2</th>\n",
              "      <td>64.8</td>\n",
              "      <td>21.6</td>\n",
              "      <td>Owner</td>\n",
              "    </tr>\n",
              "  </tbody>\n",
              "</table>\n",
              "</div>"
            ],
            "text/plain": [
              "   Income  Lot_Size Ownership\n",
              "0    60.0      18.4     Owner\n",
              "1    85.5      16.8     owner\n",
              "2    64.8      21.6     Owner"
            ]
          },
          "metadata": {
            "tags": []
          },
          "execution_count": 45
        }
      ]
    },
    {
      "cell_type": "markdown",
      "metadata": {
        "id": "ZbD-gpSg_k0D",
        "colab_type": "text"
      },
      "source": [
        "### Display all data found in column 1\n",
        "\n"
      ]
    },
    {
      "cell_type": "code",
      "metadata": {
        "id": "FMUptWkA_p8V",
        "colab_type": "code",
        "colab": {
          "base_uri": "https://localhost:8080/",
          "height": 442
        },
        "outputId": "04fbbd50-cd64-4c91-ffc5-f77f414af8d4"
      },
      "source": [
        "mower_df.iloc[:, 0]"
      ],
      "execution_count": 46,
      "outputs": [
        {
          "output_type": "execute_result",
          "data": {
            "text/plain": [
              "0      60.0\n",
              "1      85.5\n",
              "2      64.8\n",
              "3      61.5\n",
              "4      87.0\n",
              "5     110.1\n",
              "6     108.0\n",
              "7      82.8\n",
              "8      69.0\n",
              "9      93.0\n",
              "10      NaN\n",
              "11     81.0\n",
              "12     75.0\n",
              "13     52.8\n",
              "14     64.8\n",
              "15     43.2\n",
              "16     84.0\n",
              "17     49.2\n",
              "18     59.4\n",
              "19     66.0\n",
              "20     47.4\n",
              "21     33.0\n",
              "22     51.0\n",
              "23     63.0\n",
              "Name: Income, dtype: float64"
            ]
          },
          "metadata": {
            "tags": []
          },
          "execution_count": 46
        }
      ]
    },
    {
      "cell_type": "markdown",
      "metadata": {
        "id": "-OEPdhVz_smW",
        "colab_type": "text"
      },
      "source": [
        "### Display all data found in column 2"
      ]
    },
    {
      "cell_type": "code",
      "metadata": {
        "id": "OVr4Y8x-_xGK",
        "colab_type": "code",
        "colab": {
          "base_uri": "https://localhost:8080/",
          "height": 442
        },
        "outputId": "3b6c4e54-a8dc-4461-c588-18b987f4d3cf"
      },
      "source": [
        "mower_df.iloc[:, 1]"
      ],
      "execution_count": 47,
      "outputs": [
        {
          "output_type": "execute_result",
          "data": {
            "text/plain": [
              "0     18.4\n",
              "1     16.8\n",
              "2     21.6\n",
              "3     20.8\n",
              "4     23.6\n",
              "5     19.2\n",
              "6     17.6\n",
              "7     22.4\n",
              "8     20.0\n",
              "9     20.8\n",
              "10    22.0\n",
              "11    20.0\n",
              "12     NaN\n",
              "13    20.8\n",
              "14    17.2\n",
              "15    20.4\n",
              "16    17.6\n",
              "17    17.6\n",
              "18    16.0\n",
              "19    18.4\n",
              "20    16.4\n",
              "21    18.8\n",
              "22    14.0\n",
              "23    14.8\n",
              "Name: Lot_Size, dtype: float64"
            ]
          },
          "metadata": {
            "tags": []
          },
          "execution_count": 47
        }
      ]
    },
    {
      "cell_type": "markdown",
      "metadata": {
        "id": "HcLoGSKx_zL2",
        "colab_type": "text"
      },
      "source": [
        "### Replace any missing numbers with the median value (of the column that the missing number was found)\n"
      ]
    },
    {
      "cell_type": "code",
      "metadata": {
        "id": "ASoxG6xdADd6",
        "colab_type": "code",
        "colab": {}
      },
      "source": [
        "for column in mower_df.columns:\n",
        "  mower_df[column] = mower_df[[column]].fillna(value=mower_df[[column]].median())"
      ],
      "execution_count": 48,
      "outputs": []
    },
    {
      "cell_type": "markdown",
      "metadata": {
        "id": "CH1W5-b-AGPj",
        "colab_type": "text"
      },
      "source": [
        "### Fix any typos found in Column 3 data "
      ]
    },
    {
      "cell_type": "code",
      "metadata": {
        "id": "rtsoTsIUALMN",
        "colab_type": "code",
        "colab": {}
      },
      "source": [
        "mower_df['Ownership']=mower_df['Ownership'].replace('owner','Owner')\n",
        "mower_df['Ownership']=mower_df['Ownership'].replace('Nonowner','Non-owner')"
      ],
      "execution_count": 49,
      "outputs": []
    },
    {
      "cell_type": "markdown",
      "metadata": {
        "id": "AxX9Ct78Bx29",
        "colab_type": "text"
      },
      "source": [
        "### Summarize the data found in the first column "
      ]
    },
    {
      "cell_type": "code",
      "metadata": {
        "id": "6NcKzwR4Bv8d",
        "colab_type": "code",
        "colab": {
          "base_uri": "https://localhost:8080/",
          "height": 170
        },
        "outputId": "14e5bde2-d0d1-4186-c0b1-8eea7e858f79"
      },
      "source": [
        "# Summarize using at least the following measures:  Mean, Median, Max, Min, 25th quantile, 50% quantile, and 75th quantile.\n",
        "\n",
        "mower_df['Income'].describe()"
      ],
      "execution_count": 50,
      "outputs": [
        {
          "output_type": "execute_result",
          "data": {
            "text/plain": [
              "count     24.000000\n",
              "mean      69.012500\n",
              "std       19.462233\n",
              "min       33.000000\n",
              "25%       57.750000\n",
              "50%       64.800000\n",
              "75%       83.100000\n",
              "max      110.100000\n",
              "Name: Income, dtype: float64"
            ]
          },
          "metadata": {
            "tags": []
          },
          "execution_count": 50
        }
      ]
    },
    {
      "cell_type": "markdown",
      "metadata": {
        "id": "jt4nT07JC3i9",
        "colab_type": "text"
      },
      "source": [
        "### Summarize the data found in the second column"
      ]
    },
    {
      "cell_type": "markdown",
      "metadata": {
        "id": "pD2-9pdvDS9e",
        "colab_type": "text"
      },
      "source": [
        ""
      ]
    },
    {
      "cell_type": "code",
      "metadata": {
        "id": "BHnUvRuzC8qr",
        "colab_type": "code",
        "colab": {
          "base_uri": "https://localhost:8080/",
          "height": 170
        },
        "outputId": "fd1ce751-ed81-4dca-df87-0c425c49a491"
      },
      "source": [
        "# Summarize using at least the following measures:  Mean, Median, Max, Min, 25th quantile, 50% quantile, and 75th quantile.\n",
        "\n",
        "mower_df['Lot_Size'].describe()"
      ],
      "execution_count": 51,
      "outputs": [
        {
          "output_type": "execute_result",
          "data": {
            "text/plain": [
              "count    24.000000\n",
              "mean     18.916667\n",
              "std       2.424453\n",
              "min      14.000000\n",
              "25%      17.500000\n",
              "50%      18.800000\n",
              "75%      20.800000\n",
              "max      23.600000\n",
              "Name: Lot_Size, dtype: float64"
            ]
          },
          "metadata": {
            "tags": []
          },
          "execution_count": 51
        }
      ]
    },
    {
      "cell_type": "markdown",
      "metadata": {
        "id": "zLuSaN4dpr8n",
        "colab_type": "text"
      },
      "source": [
        "## Create scatter plot of the data\n"
      ]
    },
    {
      "cell_type": "markdown",
      "metadata": {
        "id": "CgPW1qoSAt7C",
        "colab_type": "text"
      },
      "source": [
        "**NOTE: You do not need to edit any of the code below. If you've correctly complete the required code above, the following code will work correctly.**"
      ]
    },
    {
      "cell_type": "code",
      "metadata": {
        "id": "uJ1M9hvipvuA",
        "colab_type": "code",
        "colab": {
          "base_uri": "https://localhost:8080/",
          "height": 474
        },
        "outputId": "3090cff8-3d48-49be-88b1-b86894aabb70"
      },
      "source": [
        "#########################\n",
        "# STEP1 - Create the drawing area in which we will place of plots\n",
        "#########################\n",
        "\n",
        "fig = plt.figure(figsize=(12,6)) # this creates a figure - sort of a drawing space to create our plot\n",
        "\n",
        "fig.suptitle(\"Figure2: MIS 536\", multialignment='center', wrap=True, y=1.05) # add centered title to figure \n",
        "# more on subtitle here https://matplotlib.org/3.1.1/api/_as_gen/matplotlib.pyplot.suptitle.html\n",
        "# note the use of y=1.1 in the above. The y (and x) coordinates in a figure go from 0 to 1. If we provide a value greater than 1, \n",
        "# we are displaying further aware from the figure - in this case, a value of 1.05 provide more space between the\n",
        "# title on the plots below. You can adjust this value to match your own taste. \n",
        "\n",
        "#########################\n",
        "# STEP2: Create two subplot areas\n",
        "#########################\n",
        "\n",
        "####\n",
        "# STEP2a - Create First subplot (ax1)\n",
        "\n",
        "# create a 1x2 plot area, and create a subplot area situated in the first location (to the left)\n",
        "ax1 = fig.add_subplot(121, title=\"Model 1\") # within a 1x2 grid, add ax1 as the first plot\n",
        "# more on add_subplot here https://matplotlib.org/api/_as_gen/matplotlib.pyplot.subplot.html\n",
        "\n",
        "# now, we draw the subplot (ax1) by creating a scatter plot of our data\n",
        "\n",
        "# here we select only the records in our data that are \"owners\" of mowers..\n",
        "# then add a scatter plot of this data to our figure\n",
        "mower_df.loc[mower_df.Ownership=='Owner'].plot(x='Income', y='Lot_Size', style='o', \n",
        "                                                   markerfacecolor='C0', markeredgecolor='C0', ax=ax1)\n",
        "\n",
        "# here we select only the records in our data that are \"Nonowner\" of mowers..\n",
        "# then add a scatter plot of this data to our figure\n",
        "mower_df.loc[mower_df.Ownership=='Non-owner'].plot(x='Income', y='Lot_Size', style='o',\n",
        "                                                      markerfacecolor='none', markeredgecolor='C1', ax=ax1)\n",
        "\n",
        "# add legend and and axes data\n",
        "ax1.legend([\"Owner\", \"Non-owner\"], framealpha=0.5);\n",
        "ax1.set_xlim((20, 120))\n",
        "ax1.set_ylim((13, 25))\n",
        "ax1.set_xlabel('Income ($000s)')\n",
        "ax1.set_ylabel('Lot Size (000s sqft)')\n",
        "\n",
        "# now, draw a predictive (decision tree) model on plot1\n",
        "y0, y1, y2 = 21.3, 19.8, 16.4\n",
        "x0, x1, x2 = 55, 58, 95\n",
        "ax1.plot((20, x0), (y0,y0), color='grey')\n",
        "ax1.plot((20, 120), (y1,y1), color='grey')\n",
        "ax1.plot((x1, x2), (y2,y2), color='grey')\n",
        "ax1.plot((x0, x0), (25,y1), color='grey')\n",
        "ax1.plot((x1, x1), (y1,13), color='grey')\n",
        "ax1.plot((x2, x2), (y1,13), color='grey')\n",
        "\n",
        "####\n",
        "# Step 2b: Create second subplot (ax2)\n",
        "\n",
        "# within a 1x2 plot area (1 row, 2 columns), and create a subplot area situated in the second location (to the right)\n",
        "ax2 = fig.add_subplot(122, title=\"Model 2\") # within a 1x2 grid, add ax1 as the first plot\n",
        "\n",
        "# here we select only the records in our data that are \"Nonowner\" of mowers..\n",
        "# then add a scatter plot of this data to our figure\n",
        "mower_df.loc[mower_df.Ownership=='Owner'].plot(x='Income', y='Lot_Size', style='o', \n",
        "                                                   markerfacecolor='C0', markeredgecolor='C0', ax=ax2)\n",
        "mower_df.loc[mower_df.Ownership=='Non-owner'].plot(x='Income', y='Lot_Size', style='o',\n",
        "                                                      markerfacecolor='none', markeredgecolor='C1', ax=ax2)\n",
        "# add legend and and axes data\n",
        "\n",
        "\n",
        "ax2.legend([\"Owner\", \"Non-owner\"], framealpha=0.5);\n",
        "ax2.set_xlim((20, 120))\n",
        "ax2.set_ylim((13, 25))\n",
        "ax2.set_xlabel('Income ($000s)')\n",
        "ax2.set_ylabel('Lot Size (000s sqft)')\n",
        "\n",
        "# now, draw a predictive (linear) model on plot1\n",
        "ax2.plot((40, 95), (25,13), color='grey')\n",
        "\n",
        "####################\n",
        "# Step3: Display the figure to the screen and save a copy to a file graphics file to be used later in a report (or other)\n",
        "####################\n",
        "\n",
        "# Set the layout style of the figure\n",
        "fig.tight_layout()\n",
        "# Safe a copy of the figure to a file (can be used to insert into a word document, or other)\n",
        "fig.savefig(\"assignment1_q1_fig2.svg\", format=\"svg\")\n",
        "# display the figure to the screen\n",
        "fig.show()"
      ],
      "execution_count": 54,
      "outputs": [
        {
          "output_type": "display_data",
          "data": {
            "image/png": "[encoded data removed]",
            "text/plain": [
              "<Figure size 864x432 with 2 Axes>"
            ]
          },
          "metadata": {
            "tags": [],
            "needs_background": "light"
          }
        }
      ]
    }
  ]
}