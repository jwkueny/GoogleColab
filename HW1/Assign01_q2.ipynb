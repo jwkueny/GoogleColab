{
 "metadata": {
  "language_info": {
   "codemirror_mode": {
    "name": "ipython",
    "version": 3
   },
   "file_extension": ".py",
   "mimetype": "text/x-python",
   "name": "python",
   "nbconvert_exporter": "python",
   "pygments_lexer": "ipython3",
   "version": 3
  },
  "orig_nbformat": 2
 },
 "nbformat": 4,
 "nbformat_minor": 2,
 "cells": [
  {
   "source": [
    "# Assignent 1  Q2 \n",
    "\n",
    "## This assignment is worth 30 points and is due Spt 20 before midnight.\n",
    "\n",
    "Using the WestRoxbury.csv data file located in the class GitHub repositor, create a report (add code and markdown within this notebook) on the data in the first six columns of this dataset.\n",
    "\n",
    "Your report must include the following:\n",
    "\n",
    "* The max, min, mean, median, standard deviation for each of the six variables. \n",
    "\n",
    "* A boxplot for each of the six variables. Display these in one figure (multiple subplots)\n",
    "\n",
    "* A histogram for each of the six variables. Display these in one figure (multiple subplots)\n",
    "\n",
    "* A correlation matrix for the six variables.\n",
    "\n",
    "* Add a title, the author (you), and introduction to the document. In you own words summarize your findings/observations. \n",
    "\n",
    "Submit your notebook to Canvas (in the Assignment01_Q2 assignment).\n",
    "\n",
    "\n"
   ],
   "cell_type": "markdown",
   "metadata": {}
  }
 ]
}